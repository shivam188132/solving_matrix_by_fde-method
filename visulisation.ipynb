{
 "cells": [
  {
   "cell_type": "code",
   "execution_count": 1,
   "id": "9be71fad-898d-4524-ad93-3dd234cf5d78",
   "metadata": {},
   "outputs": [],
   "source": [
    "import numpy as np\n",
    "from scipy.linalg import solve"
   ]
  },
  {
   "cell_type": "code",
   "execution_count": 2,
   "id": "296cdbb4-84ca-4680-873b-0178cfad4b20",
   "metadata": {},
   "outputs": [],
   "source": [
    "n, T_left, T_bottom, T_right, T_top = 3, 75, 0, 50, 100"
   ]
  },
  {
   "cell_type": "code",
   "execution_count": 3,
   "id": "dda42afb-4f01-4d8e-8d8c-4cea827ebd2c",
   "metadata": {},
   "outputs": [],
   "source": [
    "A, b = np.zeros((n*n, n*n)), np.zeros(n*n)"
   ]
  },
  {
   "cell_type": "code",
   "execution_count": 4,
   "id": "959453f7-b52f-4594-96aa-750a43238445",
   "metadata": {},
   "outputs": [
    {
     "data": {
      "text/plain": [
       "array([[0., 0., 0., 0., 0., 0., 0., 0., 0.],\n",
       "       [0., 0., 0., 0., 0., 0., 0., 0., 0.],\n",
       "       [0., 0., 0., 0., 0., 0., 0., 0., 0.],\n",
       "       [0., 0., 0., 0., 0., 0., 0., 0., 0.],\n",
       "       [0., 0., 0., 0., 0., 0., 0., 0., 0.],\n",
       "       [0., 0., 0., 0., 0., 0., 0., 0., 0.],\n",
       "       [0., 0., 0., 0., 0., 0., 0., 0., 0.],\n",
       "       [0., 0., 0., 0., 0., 0., 0., 0., 0.],\n",
       "       [0., 0., 0., 0., 0., 0., 0., 0., 0.]])"
      ]
     },
     "execution_count": 4,
     "metadata": {},
     "output_type": "execute_result"
    }
   ],
   "source": [
    "A"
   ]
  },
  {
   "cell_type": "code",
   "execution_count": 5,
   "id": "0a112744-5938-40e8-8980-19d3d2a24cd3",
   "metadata": {},
   "outputs": [
    {
     "data": {
      "text/plain": [
       "array([0., 0., 0., 0., 0., 0., 0., 0., 0.])"
      ]
     },
     "execution_count": 5,
     "metadata": {},
     "output_type": "execute_result"
    }
   ],
   "source": [
    "b"
   ]
  },
  {
   "cell_type": "code",
   "execution_count": 6,
   "id": "7111a824-7a5d-4097-b664-291160a7f989",
   "metadata": {},
   "outputs": [],
   "source": [
    "def index(i, j, n):\n",
    "    return (i - 1) * n + (j - 1)\n"
   ]
  },
  {
   "cell_type": "code",
   "execution_count": 7,
   "id": "860f3b4b-e4d8-415f-8f1b-81fb7dcf489e",
   "metadata": {},
   "outputs": [],
   "source": [
    "for i in range(1, n+1):\n",
    "    for j in range(1, n+1):\n",
    "        idx = index(i, j, n)\n",
    "        \n",
    "        A[idx, idx] = -4\n",
    "        \n",
    "        if i > 1:  # T_(i-1,j)\n",
    "            A[idx, index(i-1, j, n)] = 1\n",
    "        else:  # Bottom boundary\n",
    "            b[idx] -= T_bottom\n",
    "\n",
    "        if i < n:  # T_(i+1,j)\n",
    "            A[idx, index(i+1, j, n)] = 1\n",
    "        else:  # Top boundary\n",
    "            b[idx] -= T_top\n",
    "\n",
    "        if j > 1:  # T_(i,j-1)\n",
    "            A[idx, index(i, j-1, n)] = 1\n",
    "        else:  # Left boundary\n",
    "            b[idx] -= T_left\n",
    "\n",
    "        if j < n:  # T_(i,j+1)\n",
    "            A[idx, index(i, j+1, n)] = 1\n",
    "        else:  # Right boundary\n",
    "            b[idx] -= T_right\n"
   ]
  },
  {
   "cell_type": "code",
   "execution_count": 8,
   "id": "8f4fe4fb-c41d-4555-8ded-fb86a12426dc",
   "metadata": {},
   "outputs": [],
   "source": [
    "T = solve(A, b)"
   ]
  },
  {
   "cell_type": "code",
   "execution_count": 9,
   "id": "3f842d72-a496-4f33-ab29-d52495d1f837",
   "metadata": {},
   "outputs": [
    {
     "data": {
      "text/plain": [
       "array([42.85714286, 33.25892857, 33.92857143, 63.16964286, 56.25      ,\n",
       "       52.45535714, 78.57142857, 76.11607143, 69.64285714])"
      ]
     },
     "execution_count": 9,
     "metadata": {},
     "output_type": "execute_result"
    }
   ],
   "source": [
    "T"
   ]
  },
  {
   "cell_type": "code",
   "execution_count": 10,
   "id": "80e57bb9-8687-497f-a0e7-d44f33fd4c8c",
   "metadata": {},
   "outputs": [],
   "source": [
    "# T = np.flip(T)"
   ]
  },
  {
   "cell_type": "code",
   "execution_count": 11,
   "id": "88bc40be-b7db-4409-b5b7-e7c6bd43d989",
   "metadata": {},
   "outputs": [
    {
     "data": {
      "text/plain": [
       "array([42.85714286, 33.25892857, 33.92857143, 63.16964286, 56.25      ,\n",
       "       52.45535714, 78.57142857, 76.11607143, 69.64285714])"
      ]
     },
     "execution_count": 11,
     "metadata": {},
     "output_type": "execute_result"
    }
   ],
   "source": [
    "T"
   ]
  },
  {
   "cell_type": "code",
   "execution_count": 12,
   "id": "11f1b653-d4f9-4a94-9564-0b92f88ddc7f",
   "metadata": {},
   "outputs": [],
   "source": [
    "T_grid = T.reshape((n, n))"
   ]
  },
  {
   "cell_type": "code",
   "execution_count": 13,
   "id": "06ae20cd-884f-4a93-a3bc-8deff642a316",
   "metadata": {},
   "outputs": [
    {
     "data": {
      "text/plain": [
       "array([[42.85714286, 33.25892857, 33.92857143],\n",
       "       [63.16964286, 56.25      , 52.45535714],\n",
       "       [78.57142857, 76.11607143, 69.64285714]])"
      ]
     },
     "execution_count": 13,
     "metadata": {},
     "output_type": "execute_result"
    }
   ],
   "source": [
    "T_grid"
   ]
  },
  {
   "cell_type": "code",
   "execution_count": 14,
   "id": "4c69bff6-74a5-419e-ab4e-88121ae55940",
   "metadata": {},
   "outputs": [
    {
     "name": "stdout",
     "output_type": "stream",
     "text": [
      "Temperature distribution:\n",
      "<class 'numpy.ndarray'>\n",
      "[[42.85714286 33.25892857 33.92857143]\n",
      " [63.16964286 56.25       52.45535714]\n",
      " [78.57142857 76.11607143 69.64285714]]\n"
     ]
    }
   ],
   "source": [
    "print(\"Temperature distribution:\")\n",
    "print(type(T_grid))\n",
    "print(T_grid)"
   ]
  },
  {
   "cell_type": "code",
   "execution_count": 16,
   "id": "8aecd2f0-b0df-4efe-81bc-45b2bf8aedd3",
   "metadata": {},
   "outputs": [],
   "source": [
    "import matplotlib.pyplot as plt"
   ]
  },
  {
   "cell_type": "code",
   "execution_count": 20,
   "id": "402339d7-0a46-4ae6-a75b-da68385064ec",
   "metadata": {},
   "outputs": [
    {
     "ename": "SyntaxError",
     "evalue": "invalid syntax (2418983849.py, line 5)",
     "output_type": "error",
     "traceback": [
      "\u001b[1;36m  Cell \u001b[1;32mIn[20], line 5\u001b[1;36m\u001b[0m\n\u001b[1;33m    , extend='both')\u001b[0m\n\u001b[1;37m    ^\u001b[0m\n\u001b[1;31mSyntaxError\u001b[0m\u001b[1;31m:\u001b[0m invalid syntax\n"
     ]
    }
   ],
   "source": [
    "sns.clustermap(Tgri.pivot_table(values='',index='month',columns='year'))"
   ]
  },
  {
   "cell_type": "code",
   "execution_count": null,
   "id": "6b1c9b30-62db-45e2-9ee0-8cb3d4f3735b",
   "metadata": {},
   "outputs": [],
   "source": []
  }
 ],
 "metadata": {
  "kernelspec": {
   "display_name": "Python 3 (ipykernel)",
   "language": "python",
   "name": "python3"
  },
  "language_info": {
   "codemirror_mode": {
    "name": "ipython",
    "version": 3
   },
   "file_extension": ".py",
   "mimetype": "text/x-python",
   "name": "python",
   "nbconvert_exporter": "python",
   "pygments_lexer": "ipython3",
   "version": "3.11.1"
  }
 },
 "nbformat": 4,
 "nbformat_minor": 5
}
